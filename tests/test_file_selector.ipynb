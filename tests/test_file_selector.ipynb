{
 "cells": [
  {
   "cell_type": "code",
   "execution_count": 1,
   "metadata": {},
   "outputs": [
    {
     "data": {
      "text/html": [
       "\n",
       "<style type=\"text/css\">\n",
       ".jupyter-widgets select option {font-family: \"Lucida Console\", Monaco, monospace;}\n",
       "div.output_subarea {padding: 0px;}\n",
       "div.output_subarea > div {margin: 0.4em;}\n",
       "</style>\n"
      ],
      "text/plain": [
       "<IPython.core.display.HTML object>"
      ]
     },
     "metadata": {},
     "output_type": "display_data"
    }
   ],
   "source": [
    "from __future__ import print_function\n",
    "import sys, os\n",
    "sys.path.insert(0, os.path.abspath('..'))\n",
    "import ipywe.fileselector\n",
    "import ipywidgets as ipyw"
   ]
  },
  {
   "cell_type": "markdown",
   "metadata": {},
   "source": [
    "# Single file selector with seach tool"
   ]
  },
  {
   "cell_type": "code",
   "execution_count": 2,
   "metadata": {},
   "outputs": [
    {
     "data": {
      "application/vnd.jupyter.widget-view+json": {
       "model_id": "6b05d63efdf74b48976a5c198d086e36",
       "version_major": 2,
       "version_minor": 0
      },
      "text/html": [
       "<p>Failed to display Jupyter Widget of type <code>VBox</code>.</p>\n",
       "<p>\n",
       "  If you're reading this message in the Jupyter Notebook or JupyterLab Notebook, it may mean\n",
       "  that the widgets JavaScript is still loading. If this message persists, it\n",
       "  likely means that the widgets JavaScript library is either not installed or\n",
       "  not enabled. See the <a href=\"https://ipywidgets.readthedocs.io/en/stable/user_install.html\">Jupyter\n",
       "  Widgets Documentation</a> for setup instructions.\n",
       "</p>\n",
       "<p>\n",
       "  If you're reading this message in another frontend (for example, a static\n",
       "  rendering on GitHub or <a href=\"https://nbviewer.jupyter.org/\">NBViewer</a>),\n",
       "  it may mean that your frontend doesn't currently support widgets.\n",
       "</p>\n"
      ],
      "text/plain": [
       "VBox(children=(Label(value='select file', layout=Layout(width='250px')), VBox(children=(HBox(children=(HBox(children=(Text(value='/Users/j35/git/ipywe/tests', description='Location: ', layout=Layout(width='100%'), placeholder=''), Button(description='Jump', layout=Layout(border='1px solid gray', margin='5px 10px', width='100px'), style=ButtonStyle())), layout=Layout(border='1px solid lightgrey', margin='5px 50px 5px 5px', padding='3px', width='100%')),)), HBox(children=(VBox(children=(HBox(children=(Label(value='Search:'), Text(value='', layout=Layout(width='50%'))), layout=Layout(justify_content='flex-end')), Select(description='Select', layout=Layout(height='260px', width='99%'), options=(' .', ' ..', ' .ipynb_checkpoints            |     Directory', ' test_file_selector.ipynb      |     Thu Mar  1 21:50:46 2018', ' test_helloworld.ipynb         |     Tue Feb 20 20:09:45 2018', ' test_image_display.ipynb      |     Tue Feb 20 20:09:45 2018', ' test_image_slider.ipynb       |     Tue Feb 20 20:09:45 2018', ' test_img_data_graph.ipynb     |     Tue Feb 20 20:09:45 2018', ' test_tomvizjs.ipynb           |     Tue Feb 20 20:09:45 2018', ' test_vtkjs.ipynb              |     Tue Feb 20 20:09:45 2018', ' test_wizard.ipynb             |     Tue Feb 20 20:09:45 2018'), value=' .')), layout=Layout(width='80%')), VBox(children=(Button(description='Change directory', layout=Layout(border='1px solid gray', margin='5px 40px'), style=ButtonStyle()), Button(description='Select', layout=Layout(border='1px solid blue', margin='auto 40px 5px'), style=ButtonStyle())))), layout=Layout(border='1px solid lightgrey', margin='5px', padding='10px')))), HTML(value='')))"
      ]
     },
     "metadata": {},
     "output_type": "display_data"
    }
   ],
   "source": [
    "fsel= ipywe.fileselector.FileSelectorPanel(instruction='select file', start_dir='.')\n",
    "fsel.show()"
   ]
  },
  {
   "cell_type": "code",
   "execution_count": 3,
   "metadata": {},
   "outputs": [
    {
     "ename": "AttributeError",
     "evalue": "'FileSelectorPanel' object has no attribute 'selected'",
     "output_type": "error",
     "traceback": [
      "\u001b[0;31m---------------------------------------------------------------------------\u001b[0m",
      "\u001b[0;31mAttributeError\u001b[0m                            Traceback (most recent call last)",
      "\u001b[0;32m<ipython-input-3-88ffe0b40949>\u001b[0m in \u001b[0;36m<module>\u001b[0;34m()\u001b[0m\n\u001b[0;32m----> 1\u001b[0;31m \u001b[0mprint\u001b[0m\u001b[0;34m(\u001b[0m\u001b[0mfsel\u001b[0m\u001b[0;34m.\u001b[0m\u001b[0mselected\u001b[0m\u001b[0;34m)\u001b[0m\u001b[0;34m\u001b[0m\u001b[0m\n\u001b[0m",
      "\u001b[0;31mAttributeError\u001b[0m: 'FileSelectorPanel' object has no attribute 'selected'"
     ]
    }
   ],
   "source": [
    "print(fsel.selected)"
   ]
  },
  {
   "cell_type": "markdown",
   "metadata": {},
   "source": [
    "# Single file selector with filter "
   ]
  },
  {
   "cell_type": "code",
   "execution_count": 4,
   "metadata": {
    "scrolled": false
   },
   "outputs": [
    {
     "data": {
      "application/vnd.jupyter.widget-view+json": {
       "model_id": "b61e66bc8494460eaa56c2e2b98912d7",
       "version_major": 2,
       "version_minor": 0
      },
      "text/html": [
       "<p>Failed to display Jupyter Widget of type <code>VBox</code>.</p>\n",
       "<p>\n",
       "  If you're reading this message in the Jupyter Notebook or JupyterLab Notebook, it may mean\n",
       "  that the widgets JavaScript is still loading. If this message persists, it\n",
       "  likely means that the widgets JavaScript library is either not installed or\n",
       "  not enabled. See the <a href=\"https://ipywidgets.readthedocs.io/en/stable/user_install.html\">Jupyter\n",
       "  Widgets Documentation</a> for setup instructions.\n",
       "</p>\n",
       "<p>\n",
       "  If you're reading this message in another frontend (for example, a static\n",
       "  rendering on GitHub or <a href=\"https://nbviewer.jupyter.org/\">NBViewer</a>),\n",
       "  it may mean that your frontend doesn't currently support widgets.\n",
       "</p>\n"
      ],
      "text/plain": [
       "VBox(children=(Label(value='select file', layout=Layout(width='250px')), VBox(children=(HBox(children=(HBox(children=(Text(value='/Users/j35/git/ipywe/tests', description='Location: ', layout=Layout(width='100%'), placeholder=''), Button(description='Jump', layout=Layout(border='1px solid gray', margin='5px 10px', width='100px'), style=ButtonStyle())), layout=Layout(border='1px solid lightgrey', margin='5px 50px 5px 5px', padding='3px', width='100%')),)), HBox(children=(VBox(children=(HBox(children=(Label(value='Search:'), Text(value='', layout=Layout(width='50%')), Dropdown(layout=Layout(align_self='flex-end', width='15%'), options={'notebooks': ['*.ipynb'], 'csv': ['*.csv'], 'All': ['*.*']}, value=['*.ipynb'])), layout=Layout(justify_content='flex-end')), Select(description='Select', layout=Layout(height='260px', width='99%'), options=(' .', ' ..', ' .ipynb_checkpoints            |     Directory', ' test_file_selector.ipynb      |     Thu Mar  1 21:44:46 2018', ' test_helloworld.ipynb         |     Tue Feb 20 20:09:45 2018', ' test_image_display.ipynb      |     Tue Feb 20 20:09:45 2018', ' test_image_slider.ipynb       |     Tue Feb 20 20:09:45 2018', ' test_img_data_graph.ipynb     |     Tue Feb 20 20:09:45 2018', ' test_tomvizjs.ipynb           |     Tue Feb 20 20:09:45 2018', ' test_vtkjs.ipynb              |     Tue Feb 20 20:09:45 2018', ' test_wizard.ipynb             |     Tue Feb 20 20:09:45 2018'), value=' .')), layout=Layout(width='80%')), VBox(children=(Button(description='Change directory', layout=Layout(border='1px solid gray', margin='5px 40px'), style=ButtonStyle()), Button(description='Select', layout=Layout(border='1px solid blue', margin='auto 40px 5px'), style=ButtonStyle())))), layout=Layout(border='1px solid lightgrey', margin='5px', padding='10px')))), HTML(value='')))"
      ]
     },
     "metadata": {},
     "output_type": "display_data"
    }
   ],
   "source": [
    "fsel= ipywe.fileselector.FileSelectorPanel(\n",
    "    instruction='select file', start_dir='.', \n",
    "    filters={'notebooks': ['*.ipynb'],'csv': ['*.csv']}, default_filter='notebooks')\n",
    "fsel.show()"
   ]
  },
  {
   "cell_type": "code",
   "execution_count": null,
   "metadata": {},
   "outputs": [],
   "source": [
    "print (fsel.selected)"
   ]
  },
  {
   "cell_type": "markdown",
   "metadata": {},
   "source": [
    "# Single directory selector"
   ]
  },
  {
   "cell_type": "code",
   "execution_count": null,
   "metadata": {},
   "outputs": [],
   "source": [
    "fsel= ipywe.fileselector.FileSelectorPanel(instruction='select file', start_dir='.', type='directory')\n",
    "fsel.show()"
   ]
  },
  {
   "cell_type": "code",
   "execution_count": null,
   "metadata": {},
   "outputs": [],
   "source": [
    "print (fsel.selected)"
   ]
  },
  {
   "cell_type": "markdown",
   "metadata": {},
   "source": [
    "# Single directory selector with \"new directory\" button"
   ]
  },
  {
   "cell_type": "code",
   "execution_count": null,
   "metadata": {},
   "outputs": [],
   "source": [
    "fsel= ipywe.fileselector.FileSelectorPanel(\n",
    "    instruction='select file', start_dir='.', type='directory', newdir_toolbar_button=True)\n",
    "fsel.show()"
   ]
  },
  {
   "cell_type": "code",
   "execution_count": null,
   "metadata": {},
   "outputs": [],
   "source": [
    "print (fsel.selected)"
   ]
  },
  {
   "cell_type": "markdown",
   "metadata": {},
   "source": [
    "# Multiple files selector"
   ]
  },
  {
   "cell_type": "code",
   "execution_count": null,
   "metadata": {},
   "outputs": [],
   "source": [
    "fsel= ipywe.fileselector.FileSelectorPanel(instruction='select file', start_dir='.', multiple=True)\n",
    "fsel.show()"
   ]
  },
  {
   "cell_type": "code",
   "execution_count": null,
   "metadata": {},
   "outputs": [],
   "source": [
    "print (fsel.selected)"
   ]
  },
  {
   "cell_type": "markdown",
   "metadata": {},
   "source": [
    "# Multiple directories selector"
   ]
  },
  {
   "cell_type": "code",
   "execution_count": null,
   "metadata": {},
   "outputs": [],
   "source": [
    "fsel= ipywe.fileselector.FileSelectorPanel(instruction='select file', start_dir='.', type='directory', multiple=True)\n",
    "fsel.show()"
   ]
  },
  {
   "cell_type": "code",
   "execution_count": null,
   "metadata": {},
   "outputs": [],
   "source": [
    "print (fsel.selected)"
   ]
  },
  {
   "cell_type": "markdown",
   "metadata": {
    "collapsed": true
   },
   "source": [
    "# Single file selector with callback"
   ]
  },
  {
   "cell_type": "code",
   "execution_count": null,
   "metadata": {},
   "outputs": [],
   "source": [
    "def callback(selected): print selected\n",
    "fsel= ipywe.fileselector.FileSelectorPanel(instruction='select file', start_dir='.', next=callback)\n",
    "fsel.show()"
   ]
  },
  {
   "cell_type": "markdown",
   "metadata": {},
   "source": [
    "# Disable file selector"
   ]
  },
  {
   "cell_type": "code",
   "execution_count": null,
   "metadata": {},
   "outputs": [],
   "source": [
    "fsel= ipywe.fileselector.FileSelectorPanel(instruction='select file', start_dir='.', next=print)\n",
    "fsel.show()\n",
    "# disable the UI \n",
    "fsel.disable()"
   ]
  },
  {
   "cell_type": "code",
   "execution_count": null,
   "metadata": {},
   "outputs": [],
   "source": [
    "# enable the UI\n",
    "fsel.enable()"
   ]
  },
  {
   "cell_type": "code",
   "execution_count": null,
   "metadata": {},
   "outputs": [],
   "source": [
    "# disable the UI \n",
    "fsel.disable()"
   ]
  },
  {
   "cell_type": "markdown",
   "metadata": {
    "collapsed": true
   },
   "source": [
    "# Custom layout\n",
    "valid widget names:\n",
    "* select\n",
    "* select_multiple\n",
    "* button"
   ]
  },
  {
   "cell_type": "code",
   "execution_count": null,
   "metadata": {},
   "outputs": [],
   "source": [
    "fsel= ipywe.fileselector.FileSelectorPanel(\n",
    "    instruction='select file', start_dir='.',\n",
    "    custom_layout=dict(select=ipyw.Layout(height=\"200px\", width=\"600px\"),\n",
    "                       button=ipyw.Layout(height=\"70px\"))\n",
    ")\n",
    "fsel.show()"
   ]
  },
  {
   "cell_type": "markdown",
   "metadata": {},
   "source": [
    "# A UI with more than just the file selector\n",
    "In this example we show that the file selector can be used in a container with other UI elements.\n",
    "\n",
    "The initial interface has a header and footer, and the file selector is in between them.\n",
    "\n",
    "After the user choose the file, the event handler function \"next\" will be called and a new widget can be placed at the same position where the file selector was."
   ]
  },
  {
   "cell_type": "code",
   "execution_count": null,
   "metadata": {},
   "outputs": [],
   "source": [
    "import ipywidgets as ipyw\n",
    "from IPython.display import display\n",
    "# create UI elements\n",
    "# - header\n",
    "header = ipyw.HTML(\"<h4>Header</h4>\")\n",
    "# - body\n",
    "#   * the file selector\n",
    "fsel= ipywe.fileselector.FileSelectorPanel(\n",
    "    instruction='select file', start_dir='.', type='file', multiple=False,    \n",
    ")\n",
    "#   * the container of body UI element(s)\n",
    "body = ipyw.VBox(children=[fsel.panel])\n",
    "def next(selected):\n",
    "    # the file selector UI element will be closed already at this point\n",
    "    # create a new panel and add it to the body\n",
    "    new_panel = ipyw.Label(\"New panel\")\n",
    "    body.children = [new_panel]\n",
    "    return\n",
    "fsel.select_layout = ipyw.Layout(height=\"300px\")\n",
    "fsel.next = next  # assign the event handler\n",
    "# - footer\n",
    "footer = ipyw.HTML(\"<h4>Footer</h4>\")\n",
    "# put everything together\n",
    "container = ipyw.VBox(children=[header, body, footer])\n",
    "display(container)"
   ]
  },
  {
   "cell_type": "markdown",
   "metadata": {},
   "source": [
    "# Fileselector stays alive after validation of file/directory "
   ]
  },
  {
   "cell_type": "markdown",
   "metadata": {},
   "source": [
    "Once the selection has been done, even clicking **Select** won't close the fileselector display."
   ]
  },
  {
   "cell_type": "code",
   "execution_count": null,
   "metadata": {
    "scrolled": false
   },
   "outputs": [],
   "source": [
    "fsel= ipywe.fileselector.FileSelectorPanel(instruction='select file', start_dir='.', stay_alive=True, next=print)\n",
    "fsel.show()"
   ]
  },
  {
   "cell_type": "code",
   "execution_count": null,
   "metadata": {},
   "outputs": [],
   "source": []
  }
 ],
 "metadata": {
  "kernelspec": {
   "display_name": "Python 3",
   "language": "python",
   "name": "python3"
  },
  "language_info": {
   "codemirror_mode": {
    "name": "ipython",
    "version": 3
   },
   "file_extension": ".py",
   "mimetype": "text/x-python",
   "name": "python",
   "nbconvert_exporter": "python",
   "pygments_lexer": "ipython3",
   "version": "3.6.2"
  }
 },
 "nbformat": 4,
 "nbformat_minor": 1
}
