{
 "cells": [
  {
   "cell_type": "code",
   "execution_count": null,
   "metadata": {},
   "outputs": [],
   "source": [
    "import sys, os\n",
    "# sys.path.insert(0, os.path.abspath('..'))\n",
    "import ipywe.fileselector"
   ]
  },
  {
   "cell_type": "markdown",
   "metadata": {},
   "source": [
    "# Single file selector"
   ]
  },
  {
   "cell_type": "code",
   "execution_count": null,
   "metadata": {},
   "outputs": [],
   "source": [
    "fsel= ipywe.fileselector.FileSelectorPanel(instruction='select file', start_dir='.')\n",
    "fsel.show()"
   ]
  },
  {
   "cell_type": "code",
   "execution_count": null,
   "metadata": {},
   "outputs": [],
   "source": [
    "print fsel.selected"
   ]
  },
  {
   "cell_type": "markdown",
   "metadata": {},
   "source": [
    "# Single directory selector"
   ]
  },
  {
   "cell_type": "code",
   "execution_count": null,
   "metadata": {},
   "outputs": [],
   "source": [
    "fsel= ipywe.fileselector.FileSelectorPanel(instruction='select file', start_dir='.', type='directory')\n",
    "fsel.show()"
   ]
  },
  {
   "cell_type": "code",
   "execution_count": null,
   "metadata": {},
   "outputs": [],
   "source": [
    "print fsel.selected"
   ]
  },
  {
   "cell_type": "markdown",
   "metadata": {},
   "source": [
    "# Single directory selector with \"new directory\" button"
   ]
  },
  {
   "cell_type": "code",
   "execution_count": null,
   "metadata": {},
   "outputs": [],
   "source": [
    "fsel= ipywe.fileselector.FileSelectorPanel(\n",
    "    instruction='select file', start_dir='.', type='directory', newdir_toolbar_button=True)\n",
    "fsel.show()"
   ]
  },
  {
   "cell_type": "code",
   "execution_count": null,
   "metadata": {},
   "outputs": [],
   "source": [
    "print fsel.selected"
   ]
  },
  {
   "cell_type": "markdown",
   "metadata": {},
   "source": [
    "# Multiple files selector"
   ]
  },
  {
   "cell_type": "code",
   "execution_count": null,
   "metadata": {},
   "outputs": [],
   "source": [
    "fsel= ipywe.fileselector.FileSelectorPanel(instruction='select file', start_dir='.', multiple=True)\n",
    "fsel.show()"
   ]
  },
  {
   "cell_type": "code",
   "execution_count": null,
   "metadata": {},
   "outputs": [],
   "source": [
    "print fsel.selected"
   ]
  },
  {
   "cell_type": "markdown",
   "metadata": {},
   "source": [
    "# Multiple directories selector"
   ]
  },
  {
   "cell_type": "code",
   "execution_count": null,
   "metadata": {},
   "outputs": [],
   "source": [
    "fsel= ipywe.fileselector.FileSelectorPanel(instruction='select file', start_dir='.', type='directory', multiple=True)\n",
    "fsel.show()"
   ]
  },
  {
   "cell_type": "code",
   "execution_count": null,
   "metadata": {},
   "outputs": [],
   "source": [
    "print fsel.selected"
   ]
  },
  {
   "cell_type": "markdown",
   "metadata": {
    "collapsed": true
   },
   "source": [
    "# Single file selector with callback"
   ]
  },
  {
   "cell_type": "code",
   "execution_count": null,
   "metadata": {},
   "outputs": [],
   "source": [
    "def callback(selected):\n",
    "    print selected\n",
    "fsel= ipywe.fileselector.FileSelectorPanel(instruction='select file', start_dir='.', next=callback)\n",
    "fsel.show()"
   ]
  },
  {
   "cell_type": "code",
   "execution_count": null,
   "metadata": {},
   "outputs": [],
   "source": []
  },
  {
   "cell_type": "markdown",
   "metadata": {},
   "source": [
    "# A UI with more than just the file selector\n",
    "In this example we show that the file selector can be used in a container with other UI elements.\n",
    "\n",
    "The initial interface has a header and footer, and the file selector is in between them.\n",
    "\n",
    "After the user choose the file, the event handler function \"next\" will be called and a new widget can be placed at the same position where the file selector was."
   ]
  },
  {
   "cell_type": "code",
   "execution_count": null,
   "metadata": {},
   "outputs": [],
   "source": [
    "import ipywidgets as ipyw\n",
    "from IPython.display import display\n",
    "# create UI elements\n",
    "# - header\n",
    "header = ipyw.HTML(\"<h4>Header</h4>\")\n",
    "# - body\n",
    "#   * the file selector\n",
    "fsel= ipywe.fileselector.FileSelectorPanel(\n",
    "    instruction='select file', start_dir='.', type='file', multiple=False,    \n",
    ")\n",
    "#   * the container of body UI element(s)\n",
    "body = ipyw.VBox(children=[fsel.panel])\n",
    "def next(selected):\n",
    "    # the file selector UI element will be closed already at this point\n",
    "    # create a new panel and add it to the body\n",
    "    new_panel = ipyw.Label(\"New panel\")\n",
    "    body.children = [new_panel]\n",
    "    return\n",
    "fsel.select_layout = ipyw.Layout(height=\"300px\")\n",
    "fsel.next = next  # assign the event handler\n",
    "# - footer\n",
    "footer = ipyw.HTML(\"<h4>Footer</h4>\")\n",
    "# put everything together\n",
    "container = ipyw.VBox(children=[header, body, footer])\n",
    "display(container)"
   ]
  },
  {
   "cell_type": "code",
   "execution_count": null,
   "metadata": {},
   "outputs": [],
   "source": []
  }
 ],
 "metadata": {
  "kernelspec": {
   "display_name": "dev-ipywe",
   "language": "python",
   "name": "dev-ipywe"
  },
  "language_info": {
   "codemirror_mode": {
    "name": "ipython",
    "version": 2
   },
   "file_extension": ".py",
   "mimetype": "text/x-python",
   "name": "python",
   "nbconvert_exporter": "python",
   "pygments_lexer": "ipython2",
   "version": "2.7.13"
  }
 },
 "nbformat": 4,
 "nbformat_minor": 1
}
