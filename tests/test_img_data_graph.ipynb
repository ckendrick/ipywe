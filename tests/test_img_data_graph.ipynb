{
 "cells": [
  {
   "cell_type": "code",
   "execution_count": 1,
   "metadata": {
    "collapsed": true
   },
   "outputs": [],
   "source": [
    "# cd ~/dv/sje/ipywe/tests"
   ]
  },
  {
   "cell_type": "code",
   "execution_count": 2,
   "metadata": {},
   "outputs": [
    {
     "data": {
      "text/html": [
       "<script>require.undef(\"imgdatagraph\");\n",
       "\n",
       "\n",
       "define(\"imgdatagraph\", [\"jupyter-js-widgets\"], function(widgets) {\n",
       "\n",
       "    var ImgDataGraphView = widgets.DOMWidgetView.extend({\n",
       "\n",
       "        render: function() {\n",
       "            var wid = this;\n",
       "\n",
       "            var img_container = $('<div class=\"img-container\">');\n",
       "            this.$el.append(img_container);\n",
       "            img_container.width(this.model.get(\"width\")); img_container.height(this.model.get(\"height\"));\n",
       "\n",
       "            var img = $('<img class=\"curr-img\">');\n",
       "            var image_src = \"data:image/\" + this.model.get(\"_format\") + \";base64,\" + this.model.get(\"_b64value\")\n",
       "            img.attr(\"src\", image_src);\n",
       "            img_container.append(img);\n",
       "            img.css(\"position\", \"absolute\");\n",
       "            img.width(this.model.get(\"width\")); img.height(this.model.get(\"height\"));\n",
       "\n",
       "            var canvas = $('<canvas class=\"img-canvas\">');\n",
       "            canvas.width(this.model.get(\"width\")); canvas.height(this.model.get(\"height\"));\n",
       "            canvas.css(\"position\", \"absolute\");\n",
       "            img_container.append(canvas);\n",
       "            var can = canvas[0];\n",
       "            var ctx = can.getContext('2d');\n",
       "\n",
       "            img.on(\"dragstart\", false);\n",
       "            \n",
       "            canvas.on(\"mousedown\", function(event) {\n",
       "                console.log(\"mousedown\");\n",
       "                ctx.clearRect(0, 0, wid.model.get(\"width\"), wid.model.get(\"height\"));\n",
       "                var offx = event.offsetX;\n",
       "                var offy = event.offsetY;\n",
       "                wid.model.set(\"_offsetX1\", offx);\n",
       "                wid.model.set(\"_offsetY1\", offy);\n",
       "                wid.touch();\n",
       "                ctx.moveTo(offx, offy);\n",
       "                canvas.on(\"mousemove\", function(event) {\n",
       "                    console.log(\"mousemove\");\n",
       "                    var currx = event.offsetX;\n",
       "                    var curry = event.offsetY;\n",
       "                    wid.model.set(\"_offsetX2\", currx);\n",
       "                    wid.model.set(\"_offsetY2\", curry);\n",
       "                    wid.touch();\n",
       "                    ctx.lineWidth = 5;\n",
       "                    ctx.strokeStyle = \"#ff0000\";\n",
       "                    ctx.beginPath();\n",
       "                    ctx.lineTo(currx, curry);\n",
       "                    ctx.stroke();\n",
       "                }).on(\"mouseup\", function(event) {\n",
       "                    console.log(\"mouseup\");\n",
       "                    canvas.off(\"mousemove\");\n",
       "                });\n",
       "            });\n",
       "\n",
       "            /*var graph_button = $('<button class=\"graph-button\">');\n",
       "            graph_button.button({\n",
       "                label: \"Graph\",\n",
       "                disabled: false\n",
       "            });\n",
       "            this.$el.append(graph_button);\n",
       "            graph_button.css(\"margin\", \"10px\");\n",
       "            graph_button.click(function() {\n",
       "                var graph_val = wid.model.get(\"_graph_click\");\n",
       "                if (graph_val < Number.MAX_SAFE_INTEGER) {\n",
       "                    graph_val++;\n",
       "                }\n",
       "                else {\n",
       "                    graph_val = 0;\n",
       "                }\n",
       "                wid.model.set(\"_graph_click\", graph_val);\n",
       "                wid.touch();\n",
       "                ctx.clearRect(0, 0, wid.model.get(\"width\"), wid.model.get(\"height\"));\n",
       "            });*/\n",
       "            this.model.on(\"change:_b64value\", this.on_img_change, this);\n",
       "        },\n",
       "\n",
       "        on_img_change: function() {\n",
       "            var src = \"data:image/\" + this.model.get(\"_format\") + \";base64,\" + this.model.get(\"_b64value\");\n",
       "            this.$el.find(\".curr-img\").attr(\"src\", src);\n",
       "        }\n",
       "\n",
       "    });\n",
       "\n",
       "    return {\n",
       "        ImgDataGraphView : ImgDataGraphView\n",
       "    };\n",
       "\n",
       "});\n",
       "</script>"
      ],
      "text/plain": [
       "<IPython.core.display.HTML object>"
      ]
     },
     "metadata": {},
     "output_type": "display_data"
    }
   ],
   "source": [
    "import sys, os\n",
    "sys.path.insert(0, os.path.abspath('..'))\n",
    "import ipywe.imgdatagraph"
   ]
  },
  {
   "cell_type": "code",
   "execution_count": 3,
   "metadata": {
    "collapsed": true
   },
   "outputs": [],
   "source": [
    "import numpy as np"
   ]
  },
  {
   "cell_type": "code",
   "execution_count": 4,
   "metadata": {},
   "outputs": [],
   "source": [
    "xg,yg = np.mgrid[1:500, 1:500]"
   ]
  },
  {
   "cell_type": "code",
   "execution_count": 5,
   "metadata": {
    "collapsed": true
   },
   "outputs": [],
   "source": [
    "class Image:\n",
    "    def __init__(self, x0, y0, sigma):\n",
    "        self.data = np.exp(-((xg-x0)**2+(yg-y0)**2)/2/sigma**2)"
   ]
  },
  {
   "cell_type": "code",
   "execution_count": 6,
   "metadata": {
    "collapsed": true
   },
   "outputs": [],
   "source": [
    "images = [Image(250., 250., s) for s in np.arange(5, 30, 1.)]"
   ]
  },
  {
   "cell_type": "code",
   "execution_count": 7,
   "metadata": {},
   "outputs": [
    {
     "data": {
      "application/vnd.jupyter.widget-view+json": {
       "model_id": "296e4c072ad94ea1a9271aef0dcf72d0"
      }
     },
     "metadata": {},
     "output_type": "display_data"
    }
   ],
   "source": [
    "is1 = ipywe.imgdatagraph.ImageDataGraph(images[23], 300, 300)\n",
    "is1"
   ]
  },
  {
   "cell_type": "code",
   "execution_count": null,
   "metadata": {
    "collapsed": true
   },
   "outputs": [],
   "source": []
  }
 ],
 "metadata": {
  "kernelspec": {
   "display_name": "Python 2",
   "language": "python",
   "name": "python2"
  },
  "language_info": {
   "codemirror_mode": {
    "name": "ipython",
    "version": 2
   },
   "file_extension": ".py",
   "mimetype": "text/x-python",
   "name": "python",
   "nbconvert_exporter": "python",
   "pygments_lexer": "ipython2",
   "version": "2.7.13"
  }
 },
 "nbformat": 4,
 "nbformat_minor": 2
}
