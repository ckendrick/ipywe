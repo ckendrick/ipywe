{
 "cells": [
  {
   "cell_type": "code",
   "execution_count": 1,
   "metadata": {},
   "outputs": [
    {
     "data": {
      "text/html": [
       "<script>require.undef(\"imgdisplay\");\n",
       "\n",
       "define(\"imgdisplay\", [\"jupyter-js-widgets\"], function(widgets) {\n",
       "\n",
       "    var ImgDisplayView = widgets.DOMWidgetView.extend({\n",
       "    \n",
       "        render: function() {\n",
       "            var wid = this;\n",
       "            \n",
       "            var img = $('<img class=\"curr-img\">');\n",
       "            var image_src = \"data:image/\" + this.model.get(\"_format\") + \";base64,\" + this.model.get(\"_b64value\")\n",
       "            img.attr(\"src\", image_src);\n",
       "            img.width(this.model.get(\"width\")); img.height(this.model.get(\"height\"));\n",
       "            this.$el.append(img)\n",
       "\n",
       "            var zoom_button = $('<button class=\"zoom-button\">');\n",
       "            zoom_button.button({\n",
       "                label: \"Zoom\",\n",
       "                disabled: false\n",
       "            });\n",
       "            this.$el.append(zoom_button);\n",
       "            zoom_button.click(function() {\n",
       "                trigger_val = wid.model.get(\"_button_click\");\n",
       "                if (trigger_val < Number.MAX_SAFE_INTEGER - 1) {\n",
       "                    trigger_val++;\n",
       "                }\n",
       "                else {\n",
       "                    trigger_val = 0;\n",
       "                }\n",
       "                wid.model.set(\"_button_click\", trigger_val);\n",
       "                wid.touch();\n",
       "                select.remove();\n",
       "                console.log(\"Select removed\");\n",
       "                console.log(\"Array Size: \" + wid.model.get(\"data_X\") + \" x \" + wid.model.get(\"data_Y\"));\n",
       "            });\n",
       "\n",
       "            var select = $('<div class=\"selection-box\">');\n",
       "\n",
       "            img.on(\"dragstart\", false);\n",
       "\n",
       "            img.on(\"mousedown\", function(event) {\n",
       "                console.log(\"Click 1\");\n",
       "                var click_x = event.offsetX;\n",
       "                var click_y = event.offsetY;\n",
       "                \n",
       "                select.css({\n",
       "                    \"top\": click_y,\n",
       "                    \"left\": click_x,\n",
       "                    \"width\": 0,\n",
       "                    \"height\": 0\n",
       "                });\n",
       "                \n",
       "                select.appendTo(img);\n",
       "\n",
       "                img.on(\"mousemove\", function(event) {\n",
       "                    console.log(\"Mouse moving\");\n",
       "                    var move_x = event.offsetX;\n",
       "                    var move_y = event.offsetY;\n",
       "                    var width = Math.abs(move_x - click_x);\n",
       "                    var height = Math.abs(move_y - click_y);\n",
       "                    var new_x, new_y;\n",
       "\n",
       "                    new_x = (move_x < click_x) ? (click_x - width) : click_x;\n",
       "                    new_y = (move_y < click_y) ? (click_y - height) : click_y;\n",
       "\n",
       "                    select.css({\n",
       "                        \"width\": width,\n",
       "                        \"height\": height,\n",
       "                        \"top\": new_y,\n",
       "                        \"left\": new_x,\n",
       "                        \"background\": \"transparent\",\n",
       "                        \"border\": \"2px solid red\",\n",
       "                        \"position\": \"absolute\"\n",
       "                    });\n",
       "\n",
       "                    wid.model.set(\"_offXtop\", parseInt(select.css(\"left\"), 10));\n",
       "                    wid.model.set(\"_offYtop\", parseInt(select.css(\"top\"), 10));\n",
       "                    wid.model.set(\"_offXbottom\", parseInt(select.css(\"left\"), 10) + select.width());\n",
       "                    wid.model.set(\"_offYbottom\", parseInt(select.css(\"top\"), 10) + select.height());\n",
       "                    wid.touch();\n",
       "\n",
       "                }).on(\"mouseup\", function(event) {\n",
       "                    console.log(\"Click 2\");\n",
       "                    img.off(\"mousemove\");\n",
       "                });\n",
       "            });\n",
       "            \n",
       "            this.model.on(\"change:_b64value\", this.on_img_change, this);\n",
       "        },\n",
       "\n",
       "        on_img_change: function() {\n",
       "            var src = \"data:image/\" + this.model.get(\"_format\") + \";base64,\" + this.model.get(\"_b64value\");\n",
       "            this.$el.find(\".curr-img\").attr(\"src\", src);\n",
       "        }\n",
       "\n",
       "    });\n",
       "\n",
       "    return {\n",
       "        ImgDisplayView : ImgDisplayView\n",
       "    };\n",
       "\n",
       "});\n",
       "</script>"
      ],
      "text/plain": [
       "<IPython.core.display.HTML object>"
      ]
     },
     "metadata": {},
     "output_type": "display_data"
    }
   ],
   "source": [
    "import sys, os\n",
    "sys.path.insert(0, os.path.abspath('..'))\n",
    "import ipywe.imagedisplay as imgdisp"
   ]
  },
  {
   "cell_type": "code",
   "execution_count": 2,
   "metadata": {
    "collapsed": true
   },
   "outputs": [],
   "source": [
    "import numpy as np"
   ]
  },
  {
   "cell_type": "code",
   "execution_count": 3,
   "metadata": {
    "collapsed": true
   },
   "outputs": [],
   "source": [
    "xg,yg = np.mgrid[1:500, 1:500]"
   ]
  },
  {
   "cell_type": "code",
   "execution_count": 4,
   "metadata": {
    "collapsed": true
   },
   "outputs": [],
   "source": [
    "class Image:\n",
    "    def __init__(self, x0, y0, sigma):\n",
    "        self.data = np.exp(-((xg-x0)**2+(yg-y0)**2)/2/sigma**2)"
   ]
  },
  {
   "cell_type": "code",
   "execution_count": 5,
   "metadata": {
    "collapsed": true
   },
   "outputs": [],
   "source": [
    "images = [Image(250., 250., s) for s in np.arange(5, 30, 1.)]"
   ]
  },
  {
   "cell_type": "code",
   "execution_count": 8,
   "metadata": {},
   "outputs": [
    {
     "data": {
      "application/vnd.jupyter.widget-view+json": {
       "model_id": "327467db253440fab4ee5afb13b5c295"
      }
     },
     "metadata": {},
     "output_type": "display_data"
    }
   ],
   "source": [
    "is1 = imgdisp.ImageDisplay(images[20], 300, 300)\n",
    "is1"
   ]
  },
  {
   "cell_type": "code",
   "execution_count": null,
   "metadata": {
    "collapsed": true
   },
   "outputs": [],
   "source": []
  },
  {
   "cell_type": "code",
   "execution_count": null,
   "metadata": {
    "collapsed": true
   },
   "outputs": [],
   "source": []
  }
 ],
 "metadata": {
  "kernelspec": {
   "display_name": "Python 2",
   "language": "python",
   "name": "python2"
  },
  "language_info": {
   "codemirror_mode": {
    "name": "ipython",
    "version": 2
   },
   "file_extension": ".py",
   "mimetype": "text/x-python",
   "name": "python",
   "nbconvert_exporter": "python",
   "pygments_lexer": "ipython2",
   "version": "2.7.13"
  }
 },
 "nbformat": 4,
 "nbformat_minor": 2
}
