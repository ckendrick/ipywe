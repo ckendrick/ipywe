{
 "cells": [
  {
   "cell_type": "code",
   "execution_count": null,
   "metadata": {
    "collapsed": true
   },
   "outputs": [],
   "source": [
    "import sys, os\n",
    "sys.path.insert(0, os.path.abspath('..'))\n",
    "import ipywe.wizard as wiz\n",
    "import ipywidgets as ipyw\n",
    "from __future__ import print_function"
   ]
  },
  {
   "cell_type": "code",
   "execution_count": null,
   "metadata": {
    "collapsed": true
   },
   "outputs": [],
   "source": [
    "class Step1(wiz.Step):\n",
    "    \n",
    "    def createPanel(self):\n",
    "        self.text = text = ipyw.Text(description=\"sample\", place_holder='sample name')\n",
    "        OK = ipyw.Button(description='OK')\n",
    "        OK.on_click(self.handle_next_button_click)\n",
    "        widgets= [text, OK]\n",
    "        return ipyw.VBox(children=widgets)\n",
    "    \n",
    "    def validate(self):\n",
    "        text = self.text.value\n",
    "        # check user input\n",
    "        if not text:\n",
    "            wiz.js_alert(\"Please input the sample name\")\n",
    "            return False\n",
    "        self.context.text = text # save user input\n",
    "        return True\n",
    "        \n",
    "    def nextStep(self):\n",
    "        step2 = Step2(self.context)\n",
    "        step2.show()\n",
    "        \n",
    "class Step2(wiz.Step):\n",
    "    \n",
    "    def createPanel(self):\n",
    "        self.select = select = ipyw.IntSlider(description=\"counts\", value=1, min=0, max=10)\n",
    "        OK = ipyw.Button(description='OK')\n",
    "        OK.on_click(self.handle_next_button_click)\n",
    "        widgets= [select, OK]\n",
    "        return ipyw.VBox(children=widgets)\n",
    "    \n",
    "    def validate(self):\n",
    "        v = self.select.value\n",
    "        self.context.counts = v\n",
    "        return True\n",
    "    \n",
    "    def nextStep(self):\n",
    "        return"
   ]
  },
  {
   "cell_type": "code",
   "execution_count": null,
   "metadata": {
    "collapsed": true
   },
   "outputs": [],
   "source": [
    "context=wiz.Context()\n",
    "step1 = Step1(context)"
   ]
  },
  {
   "cell_type": "code",
   "execution_count": null,
   "metadata": {},
   "outputs": [],
   "source": [
    "step1.show()"
   ]
  },
  {
   "cell_type": "code",
   "execution_count": null,
   "metadata": {},
   "outputs": [],
   "source": [
    "print(context.text)\n",
    "print(context.counts)"
   ]
  }
 ],
 "metadata": {
  "kernelspec": {
   "display_name": "Python 2",
   "language": "python",
   "name": "python2"
  },
  "language_info": {
   "codemirror_mode": {
    "name": "ipython",
    "version": 2
   },
   "file_extension": ".py",
   "mimetype": "text/x-python",
   "name": "python",
   "nbconvert_exporter": "python",
   "pygments_lexer": "ipython2",
   "version": "2.7.12"
  }
 },
 "nbformat": 4,
 "nbformat_minor": 2
}
